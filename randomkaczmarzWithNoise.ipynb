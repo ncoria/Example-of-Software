{
  "nbformat": 4,
  "nbformat_minor": 0,
  "metadata": {
    "colab": {
      "provenance": []
    },
    "kernelspec": {
      "name": "python3",
      "display_name": "Python 3"
    },
    "language_info": {
      "name": "python"
    }
  },
  "cells": [
    {
      "cell_type": "code",
      "execution_count": null,
      "metadata": {
        "id": "NmDp6TnV100C",
        "cellView": "form"
      },
      "outputs": [],
      "source": [
        "#@title\n",
        "import numpy as np\n",
        "import pandas as pd\n",
        "import matplotlib.pyplot as plt\n",
        "import seaborn as sns\n",
        "sns.set()"
      ]
    },
    {
      "cell_type": "markdown",
      "source": [
        "# Random Kaczmarz with Time Varying Noise Exploration"
      ],
      "metadata": {
        "id": "rCvEzdraC_dh"
      }
    },
    {
      "cell_type": "markdown",
      "source": [
        "To begin our exploration, we create a random matrix $A$ (each entry in the matrix is randomly sampled from a uniform distribution over $[0, 1)$, a random vector $x$, and $b^*$, which is defined with $Ax=b^*$."
      ],
      "metadata": {
        "id": "buzFCo28DcWy"
      }
    },
    {
      "cell_type": "code",
      "source": [
        "A = np.asmatrix(np.random.rand(2000,100))\n",
        "x = np.random.rand(A.shape[1],1)\n",
        "b = A*x"
      ],
      "metadata": {
        "id": "bNQ8_kJ_25L1"
      },
      "execution_count": null,
      "outputs": []
    },
    {
      "cell_type": "code",
      "source": [
        "m = A.shape[0]"
      ],
      "metadata": {
        "id": "679ivgYo3F8Z"
      },
      "execution_count": null,
      "outputs": []
    },
    {
      "cell_type": "markdown",
      "source": [
        "$Ax=b^*$ is an overdetermined consistent system with $m=2000$ rows and $n=100$ columns."
      ],
      "metadata": {
        "id": "UvJYg81KEFKf"
      }
    },
    {
      "cell_type": "markdown",
      "source": [
        "For our research we are concerned with overdetermined systems of the form $Ax=b^*$ where $b^*$ has either been affected by sparse corruptions or by some noise. In this case, when we attempt to find the solution for $Ax=b^*$, we are only given $b=b^* + b_c + r$, where $b_c$ is a column vector where most entries are $0$ and the non-zero entries can be arbitrarily large, and where $r$ is a column vector with random entries according to some distribution."
      ],
      "metadata": {
        "id": "cJa67ARsEfZe"
      }
    },
    {
      "cell_type": "markdown",
      "source": [
        "In this notebook we will only be looking at the case in which $b^*$ has been affected by noise. In this case, I am using noise which is randomly sampled according to a gaussian distribution with $0$ as its mean and $0.1$ as the size of its standard deviations."
      ],
      "metadata": {
        "id": "vdYGHHwoGWMv"
      }
    },
    {
      "cell_type": "code",
      "source": [
        "noise = np.random.normal(0, 0.1, size=(m,1))"
      ],
      "metadata": {
        "id": "e27oklmo6V4Z"
      },
      "execution_count": null,
      "outputs": []
    },
    {
      "cell_type": "markdown",
      "source": [
        "One question that we had was whether or not we could use the fact that we expect the noise to be mean zero to attempt to recover $b^*$ or a value closer to it than just the value of $b$ which we receive."
      ],
      "metadata": {
        "id": "xC6w3RwKHPmM"
      }
    },
    {
      "cell_type": "markdown",
      "source": [
        "# Exploring The Question with Code"
      ],
      "metadata": {
        "id": "rTshpSmPIO3U"
      }
    },
    {
      "cell_type": "markdown",
      "source": [
        "To begin thinking about the problem of recovering $b^*$, we thought of some strategies that could take advantage of the fact that the noise is mean zero. Both of the strategies presented below work under the principle of storing the values of $b$ which we receive and taking a sort of average of the value of $b$ we receive and the previous values we stored."
      ],
      "metadata": {
        "id": "7L56mMokIU_F"
      }
    },
    {
      "cell_type": "markdown",
      "source": [
        "The strategy presented in *b_test* is to take an average of the current value, $b_i$, and the last stored value, $b_{i-1}$, and to store and use that average.\n",
        "\n"
      ],
      "metadata": {
        "id": "5sbcMygHI3Fp"
      }
    },
    {
      "cell_type": "code",
      "source": [
        "def b_test(num_iter):\n",
        "  bvals=[0]*num_iter\n",
        "  bvals[0]=np.random.normal(0, 0.1, size=(m,1))+b\n",
        "  b_values=[0]*num_iter\n",
        "  b_values[0]=(np.linalg.norm(b-bvals[0]))**2\n",
        "  for i in range(num_iter-1):\n",
        "    noise = np.random.normal(0, 0.1, size=(m,1))\n",
        "    new_measurement = b+noise\n",
        "\n",
        "    b_r = 0.5*(new_measurement + bvals[i])\n",
        "    bvals[i+1]=b_r\n",
        "    b_values[i+1]=(np.linalg.norm(b-bvals[i+1]))**2\n",
        "  return [list(range(num_iter)),b_values]"
      ],
      "metadata": {
        "id": "jWDXKYTI33hP"
      },
      "execution_count": null,
      "outputs": []
    },
    {
      "cell_type": "markdown",
      "source": [
        "The strategy presented in *b_test2* is to take an average of the current value, $b_i$, and all previous values of $b$, and to store and use that average."
      ],
      "metadata": {
        "id": "4dxVE55NJxcI"
      }
    },
    {
      "cell_type": "code",
      "source": [
        "def b_test2(num_iter):\n",
        "  bvals=[0]*num_iter\n",
        "  b_values=[0]*num_iter\n",
        "  bvals[0]=np.random.normal(0, 0.1, size=(m,1))+b\n",
        "  b_values[0]=(np.linalg.norm(b-bvals[0]))**2\n",
        "  for i in range(num_iter-1):\n",
        "    noise = np.random.normal(0, 0.1, size=(m,1))\n",
        "    new_measurement = b+noise\n",
        "    \n",
        "    b_r = (new_measurement + (i+1)*bvals[i])/(i+2)\n",
        "    bvals[i+1]=b_r\n",
        "\n",
        "    b_values[i+1]=(np.linalg.norm(b-bvals[i+1]))**2\n",
        "  return [list(range(num_iter)),b_values]"
      ],
      "metadata": {
        "id": "7XR0xKXj4he7"
      },
      "execution_count": null,
      "outputs": []
    },
    {
      "cell_type": "markdown",
      "source": [
        "*b_base* is a baseline which just stores the values of $b$ as they come without modifying them in any way."
      ],
      "metadata": {
        "id": "NZmdfnF2J9nA"
      }
    },
    {
      "cell_type": "code",
      "source": [
        "def b_base(num_iter):\n",
        "  b_values = [0]*num_iter\n",
        "  for i in range(num_iter):\n",
        "    noise = np.random.normal(0, 0.1, size=(m,1))\n",
        "    new_measurement = b+noise\n",
        "    b_values[i]=(np.linalg.norm(b-new_measurement))**2\n",
        "  return [list(range(num_iter)),b_values]"
      ],
      "metadata": {
        "id": "A-AudagD82QT"
      },
      "execution_count": null,
      "outputs": []
    },
    {
      "cell_type": "markdown",
      "source": [
        "The output of each of these functions is an array of values representing the number of iterations, or number of times we have sampled $b$, and an array of the norm of the difference between $b^*$ and $b_i$ squared, $||b^* - b_i||^2$ for each iteration *i*."
      ],
      "metadata": {
        "id": "_A4HkP16KHw_"
      }
    },
    {
      "cell_type": "code",
      "source": [
        "b_noAvg = b_base(2000)\n",
        "b_w2Avg = b_test(2000)\n",
        "b_wTAvg = b_test2(2000)"
      ],
      "metadata": {
        "id": "V2q7ZRsq-OSs"
      },
      "execution_count": null,
      "outputs": []
    },
    {
      "cell_type": "markdown",
      "source": [
        "Below we've plotted the value of the norm of the difference squared vs the # of iterations. *Averaging w2* represents the values we get from using the strategy in *b_test* and *Averaging wT* represents the values we get from using the strategy in *b_test2*."
      ],
      "metadata": {
        "id": "OalLZLHAKsP5"
      }
    },
    {
      "cell_type": "code",
      "source": [
        "#@title\n",
        "plt.plot(b_noAvg[0],b_noAvg[1],label='No Averaging')\n",
        "plt.plot(b_w2Avg[0],b_w2Avg[1],label='Averaging w2')\n",
        "plt.plot(b_wTAvg[0],b_wTAvg[1],label='Averaging wT')\n",
        "plt.legend()\n",
        "plt.xlabel('# iterations')\n",
        "plt.ylabel('norm of true b - noisy b')"
      ],
      "metadata": {
        "colab": {
          "base_uri": "https://localhost:8080/",
          "height": 302
        },
        "cellView": "form",
        "id": "dez3Tr-9-dVV",
        "outputId": "69614872-97b3-4314-d1f1-be8cb4aa8319"
      },
      "execution_count": null,
      "outputs": [
        {
          "output_type": "execute_result",
          "data": {
            "text/plain": [
              "Text(0, 0.5, 'norm of true b - noisy b')"
            ]
          },
          "metadata": {},
          "execution_count": 18
        },
        {
          "output_type": "display_data",
          "data": {
            "text/plain": [
              "<Figure size 432x288 with 1 Axes>"
            ],
            "image/png": "[encoded data removed]"
          },
          "metadata": {}
        }
      ]
    },
    {
      "cell_type": "markdown",
      "source": [
        "From this plot, it seems like it would be beneficial to use the strategy presented in *b_test2* to somewhat recover the true value of $b^*$, as the value of the norm of their difference squared is lower than the other two strategies, suggesting that the values of $b_i$ from using that strategy are closer to $b^*$ than the others."
      ],
      "metadata": {
        "id": "ErWCVA_5K6D8"
      }
    },
    {
      "cell_type": "markdown",
      "source": [
        "To that end, we then created code which returns the norm of the error squared, which is defined as $||e_k||^2 = ||x^* - x_k||^2$, for each iteration $k$ of the Random Kaczmarz (RK) method. One function represents doing RK using the value of $b$ you receive at each iteration and the other function represents doing RK where as you go through the method you are also averaging the values of $b$ according to the strategy for *b_test2*."
      ],
      "metadata": {
        "id": "KeD0YTEZMNZm"
      }
    },
    {
      "cell_type": "code",
      "source": [
        "def randomKaczmarzNoisyNoAvg(A,b,num_iter,var):\n",
        "  m = A.shape[0]\n",
        "  x_k = np.zeros((A.shape[1],1))\n",
        "  prob = [0]*m\n",
        "  error = [0]*num_iter\n",
        "  for j in range(m):\n",
        "    prob[j] = (np.linalg.norm(A[j])**2)/(np.linalg.norm(A)**2)\n",
        "  for i in range(num_iter): \n",
        "    noise = 1*np.random.normal(0, var, size=(m,1))\n",
        "    r = np.random.choice(range(m),p=prob)\n",
        "    coef = ((b[r][0]+noise[r])-A[r]*x_k)/(A[r]*A[r].T)\n",
        "    x_k_new = x_k + coef.item()*(A[r].T)\n",
        "    x_k = x_k_new\n",
        "    error[i] = np.linalg.norm(x_k-x)**2\n",
        "    \n",
        "  return [x_k,error,list(range(num_iter-1))]"
      ],
      "metadata": {
        "id": "24LnoXy4Pz6T"
      },
      "execution_count": null,
      "outputs": []
    },
    {
      "cell_type": "code",
      "source": [
        "def randomKaczmarzNoisyWAvg(A,b,num_iter,var):\n",
        "  m = A.shape[0]\n",
        "  x_k = np.zeros((A.shape[1],1))\n",
        "  prob = [0]*m\n",
        "  error = [0]*num_iter\n",
        "  bvals=[0]*(num_iter)\n",
        "  bvals[0]=np.random.normal(0, var, size=(m,1))+b\n",
        "  for j in range(m):\n",
        "    prob[j] = (np.linalg.norm(A[j])**2)/(np.linalg.norm(A)**2)\n",
        "  for i in range(num_iter-1): \n",
        "    noise = 1*np.random.normal(0, var, size=(m,1))\n",
        "    new_measurement = b+noise\n",
        "    b_r = (new_measurement + (i+1)*bvals[i])/(i+2)\n",
        "    bvals[i+1]=b_r\n",
        "    r = np.random.choice(range(m),p=prob)\n",
        "    coef = ((bvals[i+1][r])-A[r]*x_k)/(A[r]*A[r].T)\n",
        "    x_k_new = x_k + coef.item()*(A[r].T)\n",
        "    x_k = x_k_new\n",
        "    error[i] = np.linalg.norm(x_k-x)**2\n",
        "  return [x_k,error,list(range(num_iter-1))]"
      ],
      "metadata": {
        "id": "Wog2EGLcQ1KF"
      },
      "execution_count": null,
      "outputs": []
    },
    {
      "cell_type": "code",
      "source": [
        "#@title\n",
        "dataNoAvg = randomKaczmarzNoisyNoAvg(A,b,100000,0.001)\n",
        "dataWAvg = randomKaczmarzNoisyWAvg(A,b,100000,0.001)"
      ],
      "metadata": {
        "id": "4z_tuofFRZZI"
      },
      "execution_count": null,
      "outputs": []
    },
    {
      "cell_type": "markdown",
      "source": [
        "Below we've plotted the value of the norm of the error squared vs the # of iterations using an \"averaging\" and a \"non-averaging\" approach."
      ],
      "metadata": {
        "id": "-HJOqQtwPboW"
      }
    },
    {
      "cell_type": "code",
      "source": [
        "#@title\n",
        "plt.semilogy(dataNoAvg[2],dataNoAvg[1][:99999],label=\"non-averaging\")\n",
        "plt.semilogy(dataWAvg[2],dataWAvg[1][:99999],label=\"averaging\")\n",
        "plt.xlabel('# iterations')\n",
        "plt.ylabel('norm of the error squared')\n",
        "plt.legend()"
      ],
      "metadata": {
        "colab": {
          "base_uri": "https://localhost:8080/",
          "height": 303
        },
        "id": "3PADU-wpRzDc",
        "outputId": "9ae1a199-543e-4327-e179-79c6dc02ad0f"
      },
      "execution_count": null,
      "outputs": [
        {
          "output_type": "execute_result",
          "data": {
            "text/plain": [
              "<matplotlib.legend.Legend at 0x7f564da22150>"
            ]
          },
          "metadata": {},
          "execution_count": 9
        },
        {
          "output_type": "display_data",
          "data": {
            "text/plain": [
              "<Figure size 432x288 with 1 Axes>"
            ],
            "image/png": "[encoded data removed]"
          },
          "metadata": {
            "needs_background": "light"
          }
        }
      ]
    },
    {
      "cell_type": "markdown",
      "source": [
        "Agreeing with our expectations, the averaging approach seems to converge to a solution closer to the true solution than simply not taking the average at all. ☺"
      ],
      "metadata": {
        "id": "ME80lzGcP70a"
      }
    },
    {
      "cell_type": "markdown",
      "source": [
        "# Comparison with Non-Noisy $b$"
      ],
      "metadata": {
        "id": "h_7wnmTCcpQX"
      }
    },
    {
      "cell_type": "markdown",
      "source": [
        "Below is the code for RK without noise being added at each iteration."
      ],
      "metadata": {
        "id": "UbxH3Nv9c2q0"
      }
    },
    {
      "cell_type": "code",
      "source": [
        "def randomKaczmarz(A,b,num_iter):\n",
        "  m = A.shape[0]\n",
        "  x_k = np.zeros((A.shape[1],1))\n",
        "  prob = [0]*m\n",
        "  error = [0]*num_iter\n",
        "  for j in range(m):\n",
        "    prob[j] = (np.linalg.norm(A[j])**2)/(np.linalg.norm(A)**2)\n",
        "  for i in range(num_iter): \n",
        "    r = np.random.choice(range(m),p=prob)\n",
        "    coef = (b[r][0]-A[r]*x_k)/(A[r]*A[r].T)\n",
        "    x_k_new = x_k + coef.item()*(A[r].T)\n",
        "    x_k = x_k_new\n",
        "    error[i]=np.linalg.norm(x_k-x)**2\n",
        "  return [x_k,list(range(num_iter)),error]"
      ],
      "metadata": {
        "id": "66AiBqcAY5il"
      },
      "execution_count": null,
      "outputs": []
    },
    {
      "cell_type": "code",
      "source": [
        "dataNoNoise = randomKaczmarz(A,b,100000)"
      ],
      "metadata": {
        "id": "4J13_teKZNDw"
      },
      "execution_count": null,
      "outputs": []
    },
    {
      "cell_type": "markdown",
      "source": [
        "Below is a plot which compares the error between the \"non-averaging\", \"averaging\", and \"no noise\" situations by looking at norm of the error squared vs # iterations."
      ],
      "metadata": {
        "id": "XGB60Y0TdAqC"
      }
    },
    {
      "cell_type": "code",
      "source": [
        "plt.semilogy(dataNoAvg[2],dataNoAvg[1][:99999],label=\"non-averaging\")\n",
        "plt.semilogy(dataWAvg[2],dataWAvg[1][:99999],label=\"averaging\")\n",
        "plt.semilogy(dataNoNoise[1],dataNoNoise[2],label=\"no noise\")\n",
        "plt.xlabel('# iterations')\n",
        "plt.ylabel('semilogy norm of the error squared')\n",
        "plt.legend()"
      ],
      "metadata": {
        "colab": {
          "base_uri": "https://localhost:8080/",
          "height": 305
        },
        "id": "VF-KSCgbZVQP",
        "outputId": "54d47afb-9543-4858-9fff-eb64e8013611"
      },
      "execution_count": null,
      "outputs": [
        {
          "output_type": "execute_result",
          "data": {
            "text/plain": [
              "<matplotlib.legend.Legend at 0x7f564cb77410>"
            ]
          },
          "metadata": {},
          "execution_count": 13
        },
        {
          "output_type": "display_data",
          "data": {
            "text/plain": [
              "<Figure size 432x288 with 1 Axes>"
            ],
            "image/png": "[encoded data removed]"
          },
          "metadata": {
            "needs_background": "light"
          }
        }
      ]
    },
    {
      "cell_type": "code",
      "source": [],
      "metadata": {
        "id": "u3TzjTXhVsW6"
      },
      "execution_count": null,
      "outputs": []
    },
    {
      "cell_type": "markdown",
      "source": [
        "The plot above shows that up to a certain threshold we approach the true solution with all three methods. Using the averaging strategy we can see that it looks like as time goes on we may improve the accuracy of our solution."
      ],
      "metadata": {
        "id": "gkkZ-hQjdQfn"
      }
    },
    {
      "cell_type": "markdown",
      "source": [
        "A prediction we have for a value of the threshold is the variance of the gaussian distribution."
      ],
      "metadata": {
        "id": "redBTBiAeABD"
      }
    }
  ]
}